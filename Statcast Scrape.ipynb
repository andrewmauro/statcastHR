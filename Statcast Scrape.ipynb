{
 "cells": [
  {
   "cell_type": "markdown",
   "metadata": {},
   "source": [
    " # Data Sourcing"
   ]
  },
  {
   "cell_type": "code",
   "execution_count": 1,
   "metadata": {
    "scrolled": true
   },
   "outputs": [],
   "source": [
    "import pandas as pd\n",
    "import numpy as np\n",
    "from pybaseball import statcast\n",
    "import io\n",
    "import requests\n",
    "\n",
    "date = '06152018'\n",
    "\n",
    "def get_lookup_table():\n",
    "    print('Gathering player lookup table. This may take a moment.')\n",
    "    url = \"https://raw.githubusercontent.com/chadwickbureau/register/master/data/people.csv\"\n",
    "    s=requests.get(url).content\n",
    "    table = pd.read_csv(io.StringIO(s.decode('utf-8')), dtype={'key_sr_nfl': object, 'key_sr_nba': object, 'key_sr_nhl': object})\n",
    "    #subset columns\n",
    "    cols_to_keep = ['name_last','name_first','key_mlbam', 'key_retro', 'key_bbref', 'key_fangraphs', 'mlb_played_first','mlb_played_last']\n",
    "    table = table[cols_to_keep]\n",
    "    #make these lowercase to avoid capitalization mistakes when searching\n",
    "    table['name_last'] = table['name_last'].str.lower()\n",
    "    table['name_first'] = table['name_first'].str.lower()\n",
    "    # Pandas cannot handle NaNs in integer columns. We need IDs to be ints for successful queries in statcast, etc. \n",
    "    # Workaround: replace ID NaNs with -1, then convert columns to integers. User will have to understand that -1 is not a valid ID. \n",
    "    table[['key_mlbam', 'key_fangraphs']] = table[['key_mlbam', 'key_fangraphs']].fillna(-1)\n",
    "    table[['key_mlbam', 'key_fangraphs']] = table[['key_mlbam', 'key_fangraphs']].astype(int) # originally returned as floats which is wrong\n",
    "    return table\n"
   ]
  },
  {
   "cell_type": "code",
   "execution_count": 2,
   "metadata": {
    "scrolled": true
   },
   "outputs": [
    {
     "name": "stdout",
     "output_type": "stream",
     "text": [
      "Gathering player lookup table. This may take a moment.\n"
     ]
    }
   ],
   "source": [
    "#scrape statcast data\n",
    "stat = statcast(start_dt='2018-06-10', end_dt='2018-06-15')\n",
    "\n",
    "players = get_lookup_table()\n",
    "players['name'] = players['name_first'] + ' ' + players['name_last']\n",
    "\n",
    "players = players[['key_mlbam', 'name']]"
   ]
  },
  {
   "cell_type": "code",
   "execution_count": 3,
   "metadata": {},
   "outputs": [],
   "source": [
    "stat['batter'] = stat['batter'].astype(int)\n",
    "stat = pd.merge(stat, players, left_on = ['batter'], right_on = ['key_mlbam'], how = 'left')\n",
    "\n",
    "#rename batter and pitcher name\n",
    "stat['batter_name'] = stat['name']\n",
    "stat['b_stands'] = stat['stand']\n",
    "stat['pitcher_name'] = stat['player_name']\n",
    "\n",
    "stat.to_csv('statRaw' + date + '.csv')"
   ]
  },
  {
   "cell_type": "code",
   "execution_count": 4,
   "metadata": {},
   "outputs": [],
   "source": [
    "players.to_csv('players.csv')"
   ]
  }
 ],
 "metadata": {
  "kernelspec": {
   "display_name": "Python 3",
   "language": "python",
   "name": "python3"
  },
  "language_info": {
   "codemirror_mode": {
    "name": "ipython",
    "version": 3
   },
   "file_extension": ".py",
   "mimetype": "text/x-python",
   "name": "python",
   "nbconvert_exporter": "python",
   "pygments_lexer": "ipython3",
   "version": "3.6.4"
  }
 },
 "nbformat": 4,
 "nbformat_minor": 2
}
