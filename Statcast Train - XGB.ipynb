{
 "cells": [
  {
   "cell_type": "markdown",
   "metadata": {},
   "source": [
    " # III. Run Predictive Model"
   ]
  },
  {
   "cell_type": "code",
   "execution_count": 1,
   "metadata": {},
   "outputs": [],
   "source": [
    "import pandas as pd\n",
    "import numpy as np\n",
    "from sklearn.metrics import roc_auc_score, roc_curve\n",
    "import matplotlib.pyplot as plt\n",
    "import gc\n",
    "import time\n",
    "import pickle\n",
    "import xgboost as xgb\n",
    "%matplotlib inline\n",
    "pd.set_option('display.max_columns', 500)"
   ]
  },
  {
   "cell_type": "code",
   "execution_count": 2,
   "metadata": {},
   "outputs": [],
   "source": [
    "statFeat = pd.read_csv('statFeatures.csv', index_col = 0)\n",
    "statResult = pd.read_csv('statResults.csv', index_col = 0)\n",
    "\n",
    "stat = pd.merge(statFeat, statResult, on = ['PA', 'batter'])"
   ]
  },
  {
   "cell_type": "code",
   "execution_count": 3,
   "metadata": {},
   "outputs": [],
   "source": [
    "date = '06172018'\n",
    "outcomes = ['outcome1B', 'outcome2B', 'outcome3B', 'outcomeHR']\n",
    "outcome = 'outcomeHR'\n",
    "outcomes.remove(outcome)\n",
    "output = 'HR'"
   ]
  },
  {
   "cell_type": "code",
   "execution_count": 4,
   "metadata": {},
   "outputs": [],
   "source": [
    "pitchers = stat[['game_date','pitcher', 'p_throws', 'pitcherHR', \\\n",
    "                'pitcherK', 'pitcherGB', 'pitcherFB', 'pitcherLD']].sort_values('game_date', ascending = False)\n",
    "\n",
    "pitchers.drop_duplicates('pitcher', keep = 'first', inplace = True)"
   ]
  },
  {
   "cell_type": "code",
   "execution_count": 5,
   "metadata": {},
   "outputs": [],
   "source": [
    "#create holdout; remove small sample hitters\n",
    "holdout = stat.sort_values('PA', ascending = False).drop_duplicates('batter', keep = 'first')\n",
    "smallSample = holdout[holdout['PA'] <= 50]\n",
    "holdout.drop(smallSample.index, axis = 0, inplace = True)\n",
    "\n",
    "#remove holdout and small sample from train\n",
    "train = stat.drop(holdout.index, axis=0)\n",
    "train = train[~train['batter'].isin(smallSample['batter'])]\n",
    "valid = holdout[[outcome, 'batter', 'pitcher']]\n",
    "#players = train['batter']\n",
    "train.drop(['batter', 'pitcher'], inplace = True, axis = 1)"
   ]
  },
  {
   "cell_type": "code",
   "execution_count": 6,
   "metadata": {
    "scrolled": false
   },
   "outputs": [],
   "source": [
    "holdout.drop(['game_date', 'pitcher', 'p_throws', \\\n",
    "             'pitcherHR', 'pitcherK', 'pitcherGB', 'pitcherFB', \\\n",
    "              'pitcherLD'], inplace = True, axis = 1)\n",
    "\n",
    "train.drop(['game_date', 'p_throws', 'b_stands'], inplace = True, axis = 1)\n",
    "\n",
    "holdout.drop(outcomes, axis = 1, inplace = True)\n",
    "train.drop(outcomes, axis = 1, inplace = True)"
   ]
  },
  {
   "cell_type": "code",
   "execution_count": 7,
   "metadata": {},
   "outputs": [],
   "source": [
    "pitchers['pitcher'] =  pitchers['pitcher'].astype(int)\n",
    "pitchers.drop('game_date', inplace = True, axis = 1)\n",
    "startersBat = pd.read_csv('startersBat.csv', index_col  = 0)\n",
    "pitchers = pd.merge(pitchers, startersBat, on = 'pitcher', how = 'left')\n",
    "holdout = pd.merge(holdout, pitchers, on = 'batter', how = 'left')\n",
    "holdout['platoon'] = np.where(holdout['b_stands'] == holdout['p_throws'], 1, 0)\n",
    "holdout.drop(['p_throws', 'b_stands'], inplace = True, axis = 1)\n",
    "holdout = holdout[train.columns]"
   ]
  },
  {
   "cell_type": "code",
   "execution_count": 8,
   "metadata": {},
   "outputs": [
    {
     "name": "stderr",
     "output_type": "stream",
     "text": [
      "C:\\Users\\z829348\\AppData\\Local\\Continuum\\anaconda3\\lib\\site-packages\\ipykernel_launcher.py:4: SettingWithCopyWarning: \n",
      "A value is trying to be set on a copy of a slice from a DataFrame\n",
      "\n",
      "See the caveats in the documentation: http://pandas.pydata.org/pandas-docs/stable/indexing.html#indexing-view-versus-copy\n",
      "  after removing the cwd from sys.path.\n",
      "C:\\Users\\z829348\\AppData\\Local\\Continuum\\anaconda3\\lib\\site-packages\\ipykernel_launcher.py:8: SettingWithCopyWarning: \n",
      "A value is trying to be set on a copy of a slice from a DataFrame\n",
      "\n",
      "See the caveats in the documentation: http://pandas.pydata.org/pandas-docs/stable/indexing.html#indexing-view-versus-copy\n",
      "  \n"
     ]
    }
   ],
   "source": [
    "#split features and predictors - time series\n",
    "x1 = train[0:int(round((.75*train.shape[0])))]\n",
    "y1 = x1[outcome]\n",
    "x1.drop([outcome], inplace = True, axis = 1)\n",
    "\n",
    "x2 = train[(int(round((.75*train.shape[0]))) + 1):(train.shape[0] + 1)]\n",
    "y2 = x2[outcome]\n",
    "x2.drop([outcome], inplace = True, axis = 1)"
   ]
  },
  {
   "cell_type": "code",
   "execution_count": 9,
   "metadata": {},
   "outputs": [
    {
     "name": "stdout",
     "output_type": "stream",
     "text": [
      "[0.000997304916381836] Start XGBoost Training\n",
      "[0]\ttrain-auc:0.63492\tvalid-auc:0.620106\n",
      "Multiple eval metrics have been passed: 'valid-auc' will be used for early stopping.\n",
      "\n",
      "Will train until valid-auc hasn't improved in 100 rounds.\n",
      "[10]\ttrain-auc:0.669172\tvalid-auc:0.633528\n",
      "[20]\ttrain-auc:0.679916\tvalid-auc:0.587607\n",
      "[30]\ttrain-auc:0.684296\tvalid-auc:0.61362\n",
      "[40]\ttrain-auc:0.692555\tvalid-auc:0.626804\n",
      "[50]\ttrain-auc:0.693502\tvalid-auc:0.634721\n",
      "[60]\ttrain-auc:0.702376\tvalid-auc:0.639343\n",
      "[70]\ttrain-auc:0.706389\tvalid-auc:0.636617\n",
      "[80]\ttrain-auc:0.710137\tvalid-auc:0.640485\n",
      "[90]\ttrain-auc:0.714098\tvalid-auc:0.64155\n",
      "[100]\ttrain-auc:0.719646\tvalid-auc:0.632709\n",
      "[110]\ttrain-auc:0.723993\tvalid-auc:0.633966\n",
      "[120]\ttrain-auc:0.726145\tvalid-auc:0.632599\n",
      "[130]\ttrain-auc:0.729246\tvalid-auc:0.631895\n",
      "[140]\ttrain-auc:0.732202\tvalid-auc:0.633235\n",
      "[150]\ttrain-auc:0.735235\tvalid-auc:0.632974\n",
      "[160]\ttrain-auc:0.738373\tvalid-auc:0.632261\n",
      "[170]\ttrain-auc:0.740878\tvalid-auc:0.630645\n",
      "[180]\ttrain-auc:0.744487\tvalid-auc:0.626678\n",
      "Stopping. Best iteration:\n",
      "[84]\ttrain-auc:0.711523\tvalid-auc:0.641952\n",
      "\n",
      "[28.4130437374115] Finish XGBoost Training\n"
     ]
    }
   ],
   "source": [
    "trainSplit = xgb.DMatrix(x1, y1)\n",
    "testSplit = xgb.DMatrix(x2, y2)\n",
    "\n",
    "params = {'eta': 0.1, \n",
    "          'max_depth': 2, \n",
    "          'subsample': 0.9, \n",
    "          'colsample_bytree': 0.7, \n",
    "          'colsample_bylevel':0.7,\n",
    "          'min_child_weight':1,\n",
    "          'alpha':4,\n",
    "          'objective': 'binary:logistic', \n",
    "          'eval_metric': 'auc', \n",
    "          'random_state': 99, \n",
    "          'silent': True}\n",
    "\n",
    "start_time = time.time()\n",
    "\n",
    "print('[{}] Start XGBoost Training'.format(time.time() - start_time))\n",
    "\n",
    "#del train\n",
    "gc.collect()\n",
    "\n",
    "watchlist = [(trainSplit, 'train'), (testSplit, 'valid')]\n",
    "model = xgb.train(params, trainSplit, 1000, watchlist, maximize=True, verbose_eval=10, early_stopping_rounds = 100)\n",
    "\n",
    "print('[{}] Finish XGBoost Training'.format(time.time() - start_time))"
   ]
  },
  {
   "cell_type": "code",
   "execution_count": 10,
   "metadata": {},
   "outputs": [
    {
     "name": "stdout",
     "output_type": "stream",
     "text": [
      "[28.4900484085083] Finish XGBoost Predict\n"
     ]
    }
   ],
   "source": [
    "holdout.drop(outcome, inplace = True, axis = 1)\n",
    "preds = model.predict(xgb.DMatrix(holdout), ntree_limit=model.best_ntree_limit)\n",
    "\n",
    "print('[{}] Finish XGBoost Predict'.format(time.time() - start_time))"
   ]
  },
  {
   "cell_type": "code",
   "execution_count": 11,
   "metadata": {},
   "outputs": [
    {
     "data": {
      "text/plain": [
       "<matplotlib.axes._subplots.AxesSubplot at 0x2477a8c1cf8>"
      ]
     },
     "execution_count": 11,
     "metadata": {},
     "output_type": "execute_result"
    },
    {
     "data": {
      "image/png": "[encoded data removed]",
      "text/plain": [
       "<matplotlib.figure.Figure at 0x247771c4ef0>"
      ]
     },
     "metadata": {},
     "output_type": "display_data"
    }
   ],
   "source": [
    "%matplotlib inline\n",
    "xgb.plot_importance(model)"
   ]
  },
  {
   "cell_type": "code",
   "execution_count": 12,
   "metadata": {},
   "outputs": [
    {
     "data": {
      "text/html": [
       "<div>\n",
       "<style scoped>\n",
       "    .dataframe tbody tr th:only-of-type {\n",
       "        vertical-align: middle;\n",
       "    }\n",
       "\n",
       "    .dataframe tbody tr th {\n",
       "        vertical-align: top;\n",
       "    }\n",
       "\n",
       "    .dataframe thead th {\n",
       "        text-align: right;\n",
       "    }\n",
       "</style>\n",
       "<table border=\"1\" class=\"dataframe\">\n",
       "  <thead>\n",
       "    <tr style=\"text-align: right;\">\n",
       "      <th></th>\n",
       "      <th>batter</th>\n",
       "      <th>HR</th>\n",
       "      <th>outcomeHR</th>\n",
       "      <th>batter_name</th>\n",
       "    </tr>\n",
       "  </thead>\n",
       "  <tbody>\n",
       "    <tr>\n",
       "      <th>237</th>\n",
       "      <td>571431</td>\n",
       "      <td>0.076231</td>\n",
       "      <td>0</td>\n",
       "      <td>matt adams</td>\n",
       "    </tr>\n",
       "    <tr>\n",
       "      <th>326</th>\n",
       "      <td>430832</td>\n",
       "      <td>0.070939</td>\n",
       "      <td>0</td>\n",
       "      <td>jose bautista</td>\n",
       "    </tr>\n",
       "    <tr>\n",
       "      <th>91</th>\n",
       "      <td>621566</td>\n",
       "      <td>0.069665</td>\n",
       "      <td>0</td>\n",
       "      <td>matt olson</td>\n",
       "    </tr>\n",
       "    <tr>\n",
       "      <th>275</th>\n",
       "      <td>545341</td>\n",
       "      <td>0.068917</td>\n",
       "      <td>0</td>\n",
       "      <td>randal grichuk</td>\n",
       "    </tr>\n",
       "    <tr>\n",
       "      <th>78</th>\n",
       "      <td>501981</td>\n",
       "      <td>0.067990</td>\n",
       "      <td>0</td>\n",
       "      <td>khris davis</td>\n",
       "    </tr>\n",
       "  </tbody>\n",
       "</table>\n",
       "</div>"
      ],
      "text/plain": [
       "     batter        HR  outcomeHR     batter_name\n",
       "237  571431  0.076231          0      matt adams\n",
       "326  430832  0.070939          0   jose bautista\n",
       "91   621566  0.069665          0      matt olson\n",
       "275  545341  0.068917          0  randal grichuk\n",
       "78   501981  0.067990          0     khris davis"
      ]
     },
     "execution_count": 12,
     "metadata": {},
     "output_type": "execute_result"
    }
   ],
   "source": [
    "valid[output] = preds\n",
    "valid = valid[['batter', output, outcome]]\n",
    "valid.drop_duplicates(['batter', output], inplace = True)\n",
    "\n",
    "batters = pd.read_csv('batters.csv', index_col = 0)\n",
    "batters['batter'] = batters['batter'].astype(int)\n",
    "valid = pd.merge(valid, batters, on = 'batter', how = 'left')\n",
    "\n",
    "valid.sort_values([output], ascending = False).head()"
   ]
  },
  {
   "cell_type": "code",
   "execution_count": 13,
   "metadata": {},
   "outputs": [
    {
     "data": {
      "text/plain": [
       "0.5511363636363636"
      ]
     },
     "execution_count": 13,
     "metadata": {},
     "output_type": "execute_result"
    }
   ],
   "source": [
    "roc_auc_score(y_true = valid[outcome], y_score = valid[output])"
   ]
  },
  {
   "cell_type": "code",
   "execution_count": 16,
   "metadata": {},
   "outputs": [
    {
     "data": {
      "text/html": [
       "<div>\n",
       "<style scoped>\n",
       "    .dataframe tbody tr th:only-of-type {\n",
       "        vertical-align: middle;\n",
       "    }\n",
       "\n",
       "    .dataframe tbody tr th {\n",
       "        vertical-align: top;\n",
       "    }\n",
       "\n",
       "    .dataframe thead th {\n",
       "        text-align: right;\n",
       "    }\n",
       "</style>\n",
       "<table border=\"1\" class=\"dataframe\">\n",
       "  <thead>\n",
       "    <tr style=\"text-align: right;\">\n",
       "      <th></th>\n",
       "      <th>batter</th>\n",
       "      <th>HR</th>\n",
       "      <th>outcomeHR</th>\n",
       "      <th>batter_name</th>\n",
       "      <th>seasonHR</th>\n",
       "    </tr>\n",
       "  </thead>\n",
       "  <tbody>\n",
       "    <tr>\n",
       "      <th>237</th>\n",
       "      <td>571431</td>\n",
       "      <td>0.076231</td>\n",
       "      <td>0</td>\n",
       "      <td>matt adams</td>\n",
       "      <td>53.361549</td>\n",
       "    </tr>\n",
       "    <tr>\n",
       "      <th>326</th>\n",
       "      <td>430832</td>\n",
       "      <td>0.070939</td>\n",
       "      <td>0</td>\n",
       "      <td>jose bautista</td>\n",
       "      <td>49.657429</td>\n",
       "    </tr>\n",
       "    <tr>\n",
       "      <th>91</th>\n",
       "      <td>621566</td>\n",
       "      <td>0.069665</td>\n",
       "      <td>0</td>\n",
       "      <td>matt olson</td>\n",
       "      <td>48.765156</td>\n",
       "    </tr>\n",
       "    <tr>\n",
       "      <th>275</th>\n",
       "      <td>545341</td>\n",
       "      <td>0.068917</td>\n",
       "      <td>0</td>\n",
       "      <td>randal grichuk</td>\n",
       "      <td>48.242050</td>\n",
       "    </tr>\n",
       "    <tr>\n",
       "      <th>78</th>\n",
       "      <td>501981</td>\n",
       "      <td>0.067990</td>\n",
       "      <td>0</td>\n",
       "      <td>khris davis</td>\n",
       "      <td>47.593117</td>\n",
       "    </tr>\n",
       "  </tbody>\n",
       "</table>\n",
       "</div>"
      ],
      "text/plain": [
       "     batter        HR  outcomeHR     batter_name   seasonHR\n",
       "237  571431  0.076231          0      matt adams  53.361549\n",
       "326  430832  0.070939          0   jose bautista  49.657429\n",
       "91   621566  0.069665          0      matt olson  48.765156\n",
       "275  545341  0.068917          0  randal grichuk  48.242050\n",
       "78   501981  0.067990          0     khris davis  47.593117"
      ]
     },
     "execution_count": 16,
     "metadata": {},
     "output_type": "execute_result"
    }
   ],
   "source": [
    "valid['seasonHR'] = valid['HR'] * 700\n",
    "\n",
    "valid.sort_values([output], ascending = False).head()"
   ]
  },
  {
   "cell_type": "code",
   "execution_count": null,
   "metadata": {},
   "outputs": [],
   "source": [
    "# allPreds = allPreds[allPreds['batter'].isin(startersBat['batter'])]\n",
    "\n",
    "# allPreds['points'] = allPreds['1B'] * 3 + allPreds['2B'] * 5 + allPreds['3B'] * 8 + allPreds['HR'] * 10 * 5\n",
    "\n",
    "# allPreds.sort_values(['points'], ascending = False)"
   ]
  },
  {
   "cell_type": "code",
   "execution_count": null,
   "metadata": {},
   "outputs": [],
   "source": [
    "# allPreds.to_csv('allPreds' + outcome + date + '.csv')"
   ]
  }
 ],
 "metadata": {
  "kernelspec": {
   "display_name": "Python 3",
   "language": "python",
   "name": "python3"
  },
  "language_info": {
   "codemirror_mode": {
    "name": "ipython",
    "version": 3
   },
   "file_extension": ".py",
   "mimetype": "text/x-python",
   "name": "python",
   "nbconvert_exporter": "python",
   "pygments_lexer": "ipython3",
   "version": "3.6.4"
  }
 },
 "nbformat": 4,
 "nbformat_minor": 2
}
