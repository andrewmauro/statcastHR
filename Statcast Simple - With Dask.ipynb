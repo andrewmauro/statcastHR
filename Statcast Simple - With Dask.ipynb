{
 "cells": [
  {
   "cell_type": "markdown",
   "metadata": {},
   "source": [
    " # Introduction and Summary\n",
    " \n",
    "The below code takes a data set of statcast data and uses it to predict the probability of a batter hitting a home run using a rolling average of pitch results. Statcast data contains a variety of metrics related to pitch events that occur during major league games, including pitch velocities, the result of each pitch (swinging strike, ball, line drive, foul ball, etc.), and exit velocities and launch angles for batted balls. The below code takes these features and organizes them so that a predictive model can be generated to predict a batter's likelihood of hitting a home run."
   ]
  },
  {
   "cell_type": "code",
   "execution_count": 1,
   "metadata": {},
   "outputs": [],
   "source": [
    "import pandas as pd\n",
    "import numpy as np\n",
    "pd.set_option('display.max_columns', 500)\n",
    "wP = 2400\n",
    "mpP = 100\n",
    "wBB = 250\n",
    "mpBB = 60"
   ]
  },
  {
   "cell_type": "code",
   "execution_count": 2,
   "metadata": {},
   "outputs": [],
   "source": [
    "stat = pd.read_csv('statRaw_all.csv')"
   ]
  },
  {
   "cell_type": "markdown",
   "metadata": {},
   "source": [
    " # I. Clean Dataset for Analysis"
   ]
  },
  {
   "cell_type": "markdown",
   "metadata": {},
   "source": [
    "## A. Remove rare (non-predictive) events and clean description field for analysis."
   ]
  },
  {
   "cell_type": "code",
   "execution_count": 3,
   "metadata": {},
   "outputs": [],
   "source": [
    "#remove rare or irrelevant events as irrelevant\n",
    "irrelevant = ['caught_stealing_2b', 'pickoff_caught_stealing_2b', 'run', \\\n",
    "               'caught_stealing_3b', 'pickoff_1b', 'pickoff_2b', 'pickoff_caught_stealing_3b', \\\n",
    "               'caught_stealing_home', 'pickoff_caught_stealing_home', 'run', \\\n",
    "              #rare\n",
    "              'sac_bunt', 'catcher_interf', 'batter_interference', 'sac_bunt_double_play']\n",
    "\n",
    "stat = stat[~stat['events'].isin(irrelevant)]\n",
    "\n",
    "#remove rare or irrelevant descriptions as irrelevant\n",
    "irrelevant = ['pitchout', 'swinging_pitchout', 'automatic_ball', 'pitchout_hit_into_play_score', 'foul_bunt', 'missed_bunt']\n",
    "\n",
    "stat = stat[~stat['description'].isin(irrelevant)]"
   ]
  },
  {
   "cell_type": "code",
   "execution_count": 4,
   "metadata": {},
   "outputs": [],
   "source": [
    "desc = pd.read_csv('desc.csv')\n",
    "stat = pd.merge(stat, desc, on = ['description'], how = 'left')\n",
    "#stat = pd.merge(stat, bbEvents, on = ['events', 'bb_type', 'description'], how = 'left')\n",
    "\n",
    "del desc"
   ]
  },
  {
   "cell_type": "markdown",
   "metadata": {},
   "source": [
    " ## B. Create Plate Appearence Identifier for each batter"
   ]
  },
  {
   "cell_type": "code",
   "execution_count": 5,
   "metadata": {},
   "outputs": [],
   "source": [
    "stat = stat.sort_values(['game_date', 'sv_id', 'at_bat_number', 'pitch_number'])\n",
    "stat['batter'] = stat['batter'].astype(float)\n",
    "#stat['idBatter'] = stat.groupby('batter')['batter'].rank(method='first').astype(int)\n",
    "stat['tempKey'] = range(0, len(stat))\n",
    "\n",
    "#PA Column\n",
    "#PA\n",
    "stat['PAind'] = np.where((stat['events'].notnull()) | (stat['descClean'] == 'hit_into_play'), 1, 0)\n",
    "stat['temp'] = stat.sort_values('tempKey', ascending = False).groupby('batter').PAind.transform(lambda x: x.eq(1).cumsum())\n",
    "stat['maxPA'] = stat.groupby('batter').temp.transform('max')\n",
    "stat['PA'] = stat['maxPA'] + 1 - stat['temp']"
   ]
  },
  {
   "cell_type": "markdown",
   "metadata": {},
   "source": [
    "**Subset relevant fields**"
   ]
  },
  {
   "cell_type": "code",
   "execution_count": 6,
   "metadata": {},
   "outputs": [],
   "source": [
    "stat = stat[[\n",
    "'game_year',\n",
    "'game_date',\n",
    "'PAind',\n",
    "'PA',\n",
    "'batter',\n",
    "'batter_name',\n",
    "'b_stands',\n",
    "'pitcher',\n",
    "'p_throws',\n",
    "'hit_distance_sc',\n",
    "'launch_speed',\n",
    "'launch_angle',\n",
    "'zone',\n",
    "'events',\n",
    "'descClean',\n",
    "'bb_type'\n",
    "]]"
   ]
  },
  {
   "cell_type": "markdown",
   "metadata": {},
   "source": [
    "** Using Dask, Clean Data Types **"
   ]
  },
  {
   "cell_type": "code",
   "execution_count": 7,
   "metadata": {},
   "outputs": [
    {
     "data": {
      "text/html": [
       "<table style=\"border: 2px solid white;\">\n",
       "<tr>\n",
       "<td style=\"vertical-align: top; border: 0px solid white\">\n",
       "<h3>Client</h3>\n",
       "<ul>\n",
       "  <li><b>Scheduler: </b>inproc://192.168.1.108/4364/1\n",
       "  <li><b>Dashboard: </b><a href='http://localhost:8787' target='_blank'>http://localhost:8787</a>\n",
       "</ul>\n",
       "</td>\n",
       "<td style=\"vertical-align: top; border: 0px solid white\">\n",
       "<h3>Cluster</h3>\n",
       "<ul>\n",
       "  <li><b>Workers: </b>1</li>\n",
       "  <li><b>Cores: </b>4</li>\n",
       "  <li><b>Memory: </b>8.46 GB</li>\n",
       "</ul>\n",
       "</td>\n",
       "</tr>\n",
       "</table>"
      ],
      "text/plain": [
       "<Client: scheduler='inproc://192.168.1.108/4364/1' processes=1 cores=4>"
      ]
     },
     "execution_count": 7,
     "metadata": {},
     "output_type": "execute_result"
    }
   ],
   "source": [
    "import dask.dataframe as dd\n",
    "import dask.array as da\n",
    "from dask.distributed import Client, progress\n",
    "client = Client(processes = False)\n",
    "client.restart()"
   ]
  },
  {
   "cell_type": "code",
   "execution_count": 8,
   "metadata": {},
   "outputs": [],
   "source": [
    "statD = dd.from_pandas(stat, npartitions=5)\n",
    "\n",
    "def parse_dates(df):\n",
    "  return pd.to_datetime(df['game_date'], format = '%Y-%m-%d')\n",
    "\n",
    "statD['game_date'] = statD.map_partitions(parse_dates, meta = ('game_date', 'str')).compute()\n",
    "\n",
    "integers = ['PA', 'batter', 'game_year']\n",
    "\n",
    "for ints in integers:\n",
    "    statD[ints] = statD[ints].astype(int)\n",
    "\n",
    "#floats\n",
    "flt = ['hit_distance_sc', 'launch_speed', 'launch_angle']\n",
    "\n",
    "for fl in flt:\n",
    "    statD[fl] = statD[fl].astype(float)\n",
    "\n",
    "stat = statD.compute()\n",
    "del statD"
   ]
  },
  {
   "cell_type": "markdown",
   "metadata": {},
   "source": [
    " # II. Generate Predictive Features"
   ]
  },
  {
   "cell_type": "markdown",
   "metadata": {},
   "source": [
    "We several different types of features. First, rolling averages of launch angles, exit velocities, and hit distances were calculated for each hitter using a window of 2400 pitches. Then, we applied 0/1 indicators for different batted ball types (doubles, triples, homeruns, strikeouts, etc.) and calculated league averages for these feature. \n",
    "\n",
    "After that we calculated plate discipline and bat-to-ball metrics. These include metrics related to the percentage of strikes that a batter swung at or did not swing at, the percentage of balls that a batter swung at or did not swing at, and then the results of each swing (e.g. swinging strike, or contact)."
   ]
  },
  {
   "cell_type": "code",
   "execution_count": 9,
   "metadata": {},
   "outputs": [],
   "source": [
    "#angle\n",
    "leagueAvg = stat['launch_angle'].rolling(window = stat.shape[0], min_periods = 1).mean()\n",
    "stat['meanLaunchAngle'] = leagueAvg\n",
    "stat['q1LaunchAngle'] = stat['launch_angle'].rolling(window = stat.shape[0], min_periods = 1).quantile(.25)\n",
    "stat['q3LaunchAngle'] = stat['launch_angle'].rolling(window = stat.shape[0], min_periods = 1).quantile(.75)\n",
    "stat['lowLaunch'] = np.where(stat['launch_angle'] < stat['q1LaunchAngle'], 1, 0)\n",
    "stat['medLaunch'] = np.where((stat['launch_angle'] >= stat['q1LaunchAngle']) \\\n",
    "                             & stat['launch_angle'] <= stat['q3LaunchAngle'], 1, 0)\n",
    "stat['highLaunch'] = np.where(stat['launch_angle'] > stat['q3LaunchAngle'], 1, 0)\n",
    "stat['launchAboveAvg'] = stat['launch_angle'] / stat['meanLaunchAngle'] \n",
    "\n",
    "#exit\n",
    "leagueAvg = stat['launch_speed'].rolling(window = stat.shape[0], min_periods = 1).mean()\n",
    "stat['meanLaunchSpeed'] = leagueAvg\n",
    "\n",
    "stat['q1LaunchSpeed'] = stat['launch_speed'].rolling(window = stat.shape[0], min_periods = 1).quantile(.25)\n",
    "stat['q3LaunchSpeed'] = stat['launch_speed'].rolling(window = stat.shape[0], min_periods = 1).quantile(.75)\n",
    "stat['softContact'] = np.where(stat['launch_speed'] < stat['q1LaunchSpeed'], 1, 0)\n",
    "stat['medContact'] = np.where((stat['launch_speed'] >= stat['q1LaunchSpeed']) \\\n",
    "                             & stat['launch_speed'] <= stat['q3LaunchSpeed'], 1, 0)\n",
    "stat['hardContact'] = np.where(stat['launch_speed'] > stat['q3LaunchSpeed'], 1, 0)\n",
    "\n",
    "stat['contactAboveAvg'] = stat['launch_speed'] / stat['meanLaunchSpeed']\n",
    "\n",
    "#distance\n",
    "leagueAvg = stat['hit_distance_sc'].rolling(window = stat.shape[0], min_periods = 1).mean()\n",
    "stat['meanDistance'] = leagueAvg\n",
    "\n",
    "stat['q1Distance'] = stat['hit_distance_sc'].rolling(window = stat.shape[0], min_periods = 1).quantile(.25)\n",
    "stat['q3Distance'] = stat['hit_distance_sc'].rolling(window = stat.shape[0], min_periods = 1).quantile(.75)\n",
    "stat['shortDistance'] = np.where(stat['hit_distance_sc'] < stat['q1Distance'], 1, 0)\n",
    "stat['medDistance'] = np.where((stat['hit_distance_sc'] >= stat['q1Distance']) \\\n",
    "                             & stat['hit_distance_sc'] <= stat['q3Distance'], 1, 0)\n",
    "stat['longDistance'] = np.where(stat['hit_distance_sc'] > stat['q3Distance'], 1, 0)\n",
    "\n",
    "stat['distanceAboveAvg'] = stat['hit_distance_sc'] / stat['meanDistance']\n"
   ]
  },
  {
   "cell_type": "markdown",
   "metadata": {},
   "source": [
    "The below features calculate batted ball averages for the entire league, as well as a player's relative performance for each batted ball type."
   ]
  },
  {
   "cell_type": "code",
   "execution_count": 10,
   "metadata": {},
   "outputs": [],
   "source": [
    "#strike indicator\n",
    "stat['isStrike'] = np.where(stat['zone'] <= 9, 1, 0)\n",
    "#outcome indicators\n",
    "\n",
    "#1B\n",
    "stat['outcome1B'] = np.where(stat['events'] == 'single', 1, 0)\n",
    "leagueAvg = stat['outcome1B'].rolling(window = stat.shape[0], min_periods = 1).mean()\n",
    "stat['mean1B'] = leagueAvg\n",
    "#2B\n",
    "stat['outcome2B'] = np.where(stat['events'] == 'double', 1, 0)\n",
    "leagueAvg = stat['outcome2B'].rolling(window = stat.shape[0], min_periods = 1).mean()\n",
    "stat['mean2B'] = leagueAvg\n",
    "#3B\n",
    "stat['outcome3B'] = np.where(stat['events'] == 'triple', 1, 0)\n",
    "leagueAvg = stat['outcome3B'].rolling(window = stat.shape[0], min_periods = 1).mean()\n",
    "stat['mean3B'] = leagueAvg\n",
    "#HR\n",
    "stat['outcomeHR'] = np.where(stat['events'] == 'home_run', 1, 0)\n",
    "leagueAvg = stat['outcomeHR'].rolling(window = stat.shape[0], min_periods = 1).mean()\n",
    "stat['meanHR'] = leagueAvg\n",
    "#walk\n",
    "stat['outcomeBB'] = np.where(stat['events'] == 'walk', 1, 0)\n",
    "leagueAvg = stat['outcomeBB'].rolling(window = stat.shape[0], min_periods = 1).mean()\n",
    "stat['meanBB'] = leagueAvg\n",
    "#strikeout\n",
    "stat['outcomeK'] = np.where(stat['events'] == 'strikeout', 1, 0)\n",
    "leagueAvg = stat['outcomeK'].rolling(window = stat.shape[0], min_periods = 1).mean()\n",
    "stat['meanK'] = leagueAvg\n",
    "#Hit by pitch\n",
    "stat['outcomeHBP'] = np.where(stat['events'] == 'hit_by_pitch', 1, 0)\n",
    "leagueAvg = stat['outcomeHBP'].rolling(window = stat.shape[0], min_periods = 1).mean()\n",
    "stat['meanHBP'] = leagueAvg\n",
    "\n",
    "#batted ball categories\n",
    "stat['groundball'] = np.where(stat['bb_type'] == 'ground_ball', 1,0)\n",
    "stat['linedrive'] = np.where(stat['bb_type'] == 'line_drive', 1,0)\n",
    "stat['flyball'] = np.where(stat['bb_type'] == 'fly_ball', 1,0)\n",
    "stat['popup'] = np.where(stat['bb_type'] == 'popup', 1,0)\n",
    "stat['foul'] = np.where(stat['descClean'] == 'foul', 1,0)\n",
    "\n",
    "stat.drop(['bb_type'], inplace = True, axis = 1)"
   ]
  },
  {
   "cell_type": "markdown",
   "metadata": {},
   "source": [
    "**Plate Discipline and Bat to Ball Ability ** "
   ]
  },
  {
   "cell_type": "code",
   "execution_count": 11,
   "metadata": {},
   "outputs": [
    {
     "name": "stderr",
     "output_type": "stream",
     "text": [
      "C:\\Users\\z829348\\AppData\\Local\\Continuum\\anaconda3\\lib\\site-packages\\ipykernel_launcher.py:15: FutureWarning: \n",
      "Passing list-likes to .loc or [] with any missing label will raise\n",
      "KeyError in the future, you can use .reindex() as an alternative.\n",
      "\n",
      "See the documentation here:\n",
      "http://pandas.pydata.org/pandas-docs/stable/indexing.html#deprecate-loc-reindex-listlike\n",
      "  from ipykernel import kernelapp as app\n",
      "C:\\Users\\z829348\\AppData\\Local\\Continuum\\anaconda3\\lib\\site-packages\\pandas\\core\\indexing.py:1367: FutureWarning: \n",
      "Passing list-likes to .loc or [] with any missing label will raise\n",
      "KeyError in the future, you can use .reindex() as an alternative.\n",
      "\n",
      "See the documentation here:\n",
      "http://pandas.pydata.org/pandas-docs/stable/indexing.html#deprecate-loc-reindex-listlike\n",
      "  return self._getitem_tuple(key)\n",
      "C:\\Users\\z829348\\AppData\\Local\\Continuum\\anaconda3\\lib\\site-packages\\ipykernel_launcher.py:16: FutureWarning: \n",
      "Passing list-likes to .loc or [] with any missing label will raise\n",
      "KeyError in the future, you can use .reindex() as an alternative.\n",
      "\n",
      "See the documentation here:\n",
      "http://pandas.pydata.org/pandas-docs/stable/indexing.html#deprecate-loc-reindex-listlike\n",
      "  app.launch_new_instance()\n"
     ]
    }
   ],
   "source": [
    "#feature generation\n",
    "swings = ['hit_into_play', 'foul', 'swinging_strike']\n",
    "\n",
    "#batter decision\n",
    "stat['threshSwing'] = np.where(stat['descClean'].isin(swings), 1, 0)\n",
    "\n",
    "#in or out of zone result\n",
    "stat['zSwing'] = np.where((stat['isStrike'] == 1) & (stat['threshSwing'] == 1), 1, 0)\n",
    "stat['oSwing'] = np.where((stat['isStrike'] == 0) & (stat['threshSwing'] == 1), 1, 0)\n",
    "\n",
    "stat['zTake'] = np.where((stat['isStrike'] == 1) & (stat['threshSwing'] == 0), 1, 0)\n",
    "stat['oTake'] = np.where((stat['isStrike'] == 0) & (stat['threshSwing'] == 0), 1, 0)\n",
    "\n",
    "##dfs\n",
    "swingDf = stat.loc[stat['threshSwing'] == 1, ['idBatter', 'PA', 'batter', 'zSwing', 'oSwing', \\\n",
    "                                              'groundball', 'linedrive', 'flyball', 'popup', \\\n",
    "                                              'foul', 'lowLaunch', 'medLaunch', \\\n",
    "                                             'highLaunch', 'launchAboveAvg', 'softContact', 'medContact', \\\n",
    "                                             'hardContact', 'contactAboveAvg', 'shortDistance', 'medDistance', \\\n",
    "                                             'longDistance', 'distanceAboveAvg']]\n",
    "takeDf = stat.loc[stat['threshSwing'] == 0, ['idBatter', 'PA', 'batter', 'zTake', 'oTake', \\\n",
    "                                             'descClean']]"
   ]
  },
  {
   "cell_type": "markdown",
   "metadata": {},
   "source": [
    "**Swing Events Data:**"
   ]
  },
  {
   "cell_type": "code",
   "execution_count": 12,
   "metadata": {},
   "outputs": [],
   "source": [
    "swingDf = pd.get_dummies(swingDf, prefix = 'swing', prefix_sep = '_')\n",
    "\n",
    "#calculate rolling averages\n",
    "cols = list(swingDf.columns)\n",
    "del cols[0:3]\n",
    "\n",
    "for col in cols:\n",
    "    swingDf[col] = swingDf.groupby('batter')[col].rolling(window = wP, min_periods = mpP).mean().reset_index(0,drop=True)\n",
    "\n",
    "swingDf = swingDf.sort_values('idBatter', ascending=False).drop_duplicates(['PA','batter'])\n",
    "swingDf.sort_values(['batter', 'PA', 'idBatter'])\n",
    "\n",
    "swingDf.drop('idBatter', inplace = True, axis = 1)"
   ]
  },
  {
   "cell_type": "markdown",
   "metadata": {},
   "source": [
    "**Take Events Data:**"
   ]
  },
  {
   "cell_type": "code",
   "execution_count": 13,
   "metadata": {},
   "outputs": [],
   "source": [
    "takeDf = pd.get_dummies(takeDf, prefix = 'take', prefix_sep = '_')\n",
    "\n",
    "cols = list(takeDf.columns)\n",
    "del cols[0:3]\n",
    "\n",
    "for col in cols:\n",
    "    takeDf[col] = takeDf.groupby('batter')[col].rolling(window = wP, min_periods = mpP).mean().reset_index(0,drop=True)\n",
    "\n",
    "takeDf = takeDf.sort_values('idBatter', ascending=False).drop_duplicates(['PA','batter'])\n",
    "takeDf.sort_values(['batter', 'PA', 'idBatter'])\n",
    "\n",
    "takeDf.drop('idBatter', inplace = True, axis = 1)"
   ]
  },
  {
   "cell_type": "markdown",
   "metadata": {},
   "source": [
    "**Opponent Pitcher Metrics:**"
   ]
  },
  {
   "cell_type": "markdown",
   "metadata": {},
   "source": [
    "As a final step in feature generation, we calculate data for a batter's opponent pitcher. This will allow our model to identify when a batter is facing a pitcher who is relatively good or bad at preventing home runs, or limiting balls in play, or limiting fly balls."
   ]
  },
  {
   "cell_type": "code",
   "execution_count": 14,
   "metadata": {},
   "outputs": [],
   "source": [
    "stat['pitcherHR'] = stat.groupby('pitcher')['outcomeHR'].rolling(window = wP, min_periods = mpP).mean().reset_index(0,drop=True)\n",
    "stat['pitcherK'] = stat.groupby('pitcher')['outcomeK'].rolling(window = wP, min_periods = mpP).mean().reset_index(0,drop=True)\n",
    "stat['pitcherGB'] = stat.groupby('pitcher')['groundball'].rolling(window = wP, min_periods = mpP).mean().reset_index(0,drop=True)\n",
    "stat['pitcherFB'] = stat.groupby('pitcher')['flyball'].rolling(window = wP, min_periods = mpP).mean().reset_index(0,drop=True)\n",
    "stat['pitcherLD'] = stat.groupby('pitcher')['linedrive'].rolling(window = wP, min_periods = mpP).mean().reset_index(0,drop=True)\n",
    "stat['platoon'] = np.where(stat['b_stands'] == stat['p_throws'], 1, 0)"
   ]
  },
  {
   "cell_type": "code",
   "execution_count": 15,
   "metadata": {},
   "outputs": [],
   "source": [
    "#create Stat Feat for Join\n",
    "stat['PA'] = stat['PA'] - 1\n",
    "statResult = stat.loc[stat['PAind'] == 1, ['game_date', 'PA', 'batter', 'b_stands', \\\n",
    "                                           'pitcher', 'p_throws', 'outcome1B', 'outcome2B', \\\n",
    "                                           'outcome3B', 'outcomeHR']]\n",
    "\n",
    "#join all\n",
    "statFeat = pd.merge(stat[['PA', 'batter', 'mean1B', 'mean2B', 'mean3B', 'meanHR', 'meanBB', 'meanK', 'meanHBP', \\\n",
    "                         'pitcherHR', 'pitcherK', 'pitcherGB', 'pitcherFB', 'pitcherLD', \\\n",
    "                          'platoon']], \\\n",
    "                      swingDf, on = ['PA', 'batter'], how = 'left')\n",
    "statFeat = pd.merge(statFeat, takeDf, on = ['PA', 'batter'], how = 'left')"
   ]
  },
  {
   "cell_type": "code",
   "execution_count": 16,
   "metadata": {},
   "outputs": [],
   "source": [
    "statFeat.to_csv('statFeatures.csv')\n",
    "statResult.to_csv('statResults.csv')"
   ]
  }
 ],
 "metadata": {
  "kernelspec": {
   "display_name": "Python 3",
   "language": "python",
   "name": "python3"
  },
  "language_info": {
   "codemirror_mode": {
    "name": "ipython",
    "version": 3
   },
   "file_extension": ".py",
   "mimetype": "text/x-python",
   "name": "python",
   "nbconvert_exporter": "python",
   "pygments_lexer": "ipython3",
   "version": "3.6.4"
  }
 },
 "nbformat": 4,
 "nbformat_minor": 2
}
